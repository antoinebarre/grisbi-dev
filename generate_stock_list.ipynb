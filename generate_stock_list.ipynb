{
 "cells": [
  {
   "cell_type": "markdown",
   "metadata": {},
   "source": [
    "# GENERATION DES LISTES DE TICKERS\n",
    "## PARAMETRAGES"
   ]
  },
  {
   "cell_type": "code",
   "execution_count": 45,
   "metadata": {},
   "outputs": [
    {
     "name": "stdout",
     "output_type": "stream",
     "text": [
      "Les listing d'action se trouvent dans le dossier [c:\\Z\\grisbi-dev\\list]\n"
     ]
    }
   ],
   "source": [
    "# Modules:\n",
    "import pandas as pd\n",
    "import os\n",
    "\n",
    "# Constantes \n",
    "listFolder = os.path.join(os.getcwd(),\"list\")\n",
    "print(f\"Les listing d'action se trouvent dans le dossier [{listFolder}]\")\n",
    "\n",
    "# API KEY pour stocksymbol\n",
    "api_key = 'ab0dcf65-75f0-4dac-b43c-43d86736e9a9'\n",
    "\n",
    "listMarket = [\"US\",\"FR\",\"DE\",\"JP\",\"NL\",\"GB\"]\n"
   ]
  },
  {
   "cell_type": "markdown",
   "metadata": {},
   "source": [
    "## ENREGISTREMENT DES ACTIONS\n",
    "\n",
    "\n"
   ]
  },
  {
   "cell_type": "markdown",
   "metadata": {},
   "source": [
    "### Exemple d'utilisation de stocksymbol\n",
    "La collecte des informations se passe via https://stock-symbol.herokuapp.com/"
   ]
  },
  {
   "cell_type": "code",
   "execution_count": 46,
   "metadata": {},
   "outputs": [],
   "source": [
    "from stocksymbol import StockSymbol\n",
    "\n",
    "ss = StockSymbol(api_key)\n",
    "\n",
    "# get symbol list based on market\n",
    "symbol_list_us = ss.get_symbol_list(market=\"US\") # \"us\" or \"america\" will also work\n",
    "\n",
    "# get symbol list based on index\n",
    "symbol_list_spx = ss.get_symbol_list(index=\"SPX\")\n",
    "\n",
    "# show a list of available market\n",
    "market_list = ss.market_list\n",
    "\n",
    "# show a list of available index\n",
    "index_list = ss.index_list"
   ]
  },
  {
   "cell_type": "code",
   "execution_count": 47,
   "metadata": {},
   "outputs": [],
   "source": [
    "# fonction de collecte pour un marché\n",
    "def collect_stockSymbol(market:str):\n",
    "    print(f\">>> Traitement du marché {market}\")\n",
    "    #Ouverture API\n",
    "    ss = StockSymbol(api_key)\n",
    "    # collecte données\n",
    "    listSymbols = ss.get_symbol_list(market=market)\n",
    "\n",
    "    # creation du dataframe\n",
    "    df = pd.DataFrame(listSymbols)\n",
    "    df = df.drop(columns=[\"market\",\"quoteType\"])\n",
    "    df[\"market\"] = market\n",
    "\n",
    "    return df"
   ]
  },
  {
   "cell_type": "code",
   "execution_count": 50,
   "metadata": {},
   "outputs": [
    {
     "name": "stdout",
     "output_type": "stream",
     "text": [
      ">>> Traitement du marché US\n",
      ">>> Traitement du marché FR\n",
      ">>> Traitement du marché DE\n",
      ">>> Traitement du marché JP\n",
      ">>> Traitement du marché NL\n",
      ">>> Traitement du marché GB\n"
     ]
    }
   ],
   "source": [
    "listStocks = pd.DataFrame()\n",
    "\n",
    "for market in listMarket:\n",
    "    listStocks = pd.concat([listStocks,collect_stockSymbol(market)],ignore_index=True)\n",
    "    \n",
    "# sauvegarder le fichier CSV\n",
    "import os  \n",
    "os.makedirs(listFolder, exist_ok=True)  \n",
    "listStocks.to_csv(os.path.join(listFolder,\"listStocks.csv\"),index=False)\n",
    "\n",
    "# TODO: ajouter la devise\n",
    "\n",
    "# TODO: ajouter ma liste personalisée\n",
    "    "
   ]
  },
  {
   "cell_type": "code",
   "execution_count": 49,
   "metadata": {},
   "outputs": [
    {
     "name": "stdout",
     "output_type": "stream",
     "text": [
      "       symbol                        shortName  \\\n",
      "0        AAPL                            apple   \n",
      "1        MSFT                        microsoft   \n",
      "2        GOOG                         alphabet   \n",
      "3       GOOGL                         alphabet   \n",
      "4        AMZN                           amazon   \n",
      "...       ...                              ...   \n",
      "29890  3LMS.L  GRANITESHARES FINANCIAL PLC GRA   \n",
      "29891   FME.L    FUTURE METALS NL ORD NPV (DI)   \n",
      "29892  3BAL.L  WISDOMTREE MULTI ASSET ISSUER P   \n",
      "29893  VILX.L  WISDOMTREE MULTI ASSET ISSUER P   \n",
      "29894   RKW.L  ROCKWOOD REALISATION PLC ORD 50   \n",
      "\n",
      "                                                longName exchange market  \n",
      "0                                             Apple Inc.   NASDAQ     US  \n",
      "1                                  Microsoft Corporation   NASDAQ     US  \n",
      "2                                          Alphabet Inc.   NASDAQ     US  \n",
      "3                                          Alphabet Inc.   NASDAQ     US  \n",
      "4                                       Amazon.com, Inc.   NASDAQ     US  \n",
      "...                                                  ...      ...    ...  \n",
      "29890  Graniteshares Financial PLC - 3X Long Microsof...      LSE     GB  \n",
      "29891                                   Future Metals NL      LSE     GB  \n",
      "29892     WisdomTree EURO STOXX Banks 3x Daily Leveraged      LSE     GB  \n",
      "29893  Boost Issuer Public Limited Company - Boost S&...      LSE     GB  \n",
      "29894                        Gresham House Strategic plc      LSE     GB  \n",
      "\n",
      "[29895 rows x 5 columns]\n"
     ]
    }
   ],
   "source": [
    "print(listStocks)"
   ]
  },
  {
   "cell_type": "code",
   "execution_count": null,
   "metadata": {},
   "outputs": [],
   "source": []
  }
 ],
 "metadata": {
  "interpreter": {
   "hash": "672715ffef9bd372ccbbfca94ffa1f1219193e892b37d58288cf17d1051446ba"
  },
  "kernelspec": {
   "display_name": "Python 3.10.1 64-bit",
   "language": "python",
   "name": "python3"
  },
  "language_info": {
   "codemirror_mode": {
    "name": "ipython",
    "version": 3
   },
   "file_extension": ".py",
   "mimetype": "text/x-python",
   "name": "python",
   "nbconvert_exporter": "python",
   "pygments_lexer": "ipython3",
   "version": "3.10.1"
  },
  "orig_nbformat": 4
 },
 "nbformat": 4,
 "nbformat_minor": 2
}
